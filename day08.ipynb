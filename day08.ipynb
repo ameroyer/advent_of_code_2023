{
  "nbformat": 4,
  "nbformat_minor": 0,
  "metadata": {
    "colab": {
      "provenance": [],
      "authorship_tag": "ABX9TyNcsHhGzd4vvLR4Y/rJ+ljQ"
    },
    "kernelspec": {
      "name": "python3",
      "display_name": "Python 3"
    },
    "language_info": {
      "name": "python"
    }
  },
  "cells": [
    {
      "cell_type": "markdown",
      "source": [
        "# ✨ [Day 8](https://adventofcode.com/2023/day/8)"
      ],
      "metadata": {
        "id": "2f70BHLGzHvB"
      }
    },
    {
      "cell_type": "code",
      "execution_count": 1,
      "metadata": {
        "colab": {
          "base_uri": "https://localhost:8080/"
        },
        "id": "6usO_WQPuKkA",
        "outputId": "d5348c87-4b5f-4538-d89a-9c21a2a7827c"
      },
      "outputs": [
        {
          "output_type": "stream",
          "name": "stdout",
          "text": [
            "We will reach ZZZ in 6 steps\n",
            "We will reach ZZZ in 6 steps\n"
          ]
        }
      ],
      "source": [
        "import re\n",
        "from math import gcd\n",
        "\n",
        "def camel_ride(inp:str, part1=True):\n",
        "  inst, nodes = inp.split('\\n', 1)\n",
        "  inst = [int(x != 'L') for x in inst]\n",
        "  network = {}\n",
        "  starting_nodes = ['AAA'] if part1 else []\n",
        "  for src, left, right in re.findall(r\"(?P<src>\\w+) = \\((?P<left>\\w+), (?P<right>\\w+)\\)\", inp):\n",
        "    network[src] = (left, right)\n",
        "    if not part1 and src.endswith('A'):\n",
        "      starting_nodes.append(src)\n",
        "\n",
        "  cycles = []\n",
        "  step = 0\n",
        "  while len(starting_nodes):\n",
        "    delete = []\n",
        "\n",
        "    for i, src in enumerate(starting_nodes):\n",
        "      starting_nodes[i] = network[src][inst[step % len(inst)]]\n",
        "      if (part1 and starting_nodes[i] == 'ZZZ') or (not part1 and starting_nodes[i].endswith('Z')):\n",
        "        cycles.append(step + 1)\n",
        "        delete.append(i)\n",
        "\n",
        "    if len(delete):\n",
        "      starting_nodes = [x for i, x in enumerate(starting_nodes) if i not in delete]\n",
        "    step += 1\n",
        "\n",
        "  # we find the smallest common multiple\n",
        "  step = 1\n",
        "  for x in cycles:\n",
        "    step = step * x // gcd(step, x)\n",
        "\n",
        "  print(f\"We will reach ZZZ in {step} steps\")\n",
        "\n",
        "\n",
        "test = \"\"\"LLR\n",
        "\n",
        "AAA = (BBB, BBB)\n",
        "BBB = (AAA, ZZZ)\n",
        "ZZZ = (ZZZ, ZZZ)\n",
        "\"\"\"\n",
        "\n",
        "camel_ride(test, part1=True)\n",
        "\n",
        "test = \"\"\"LR\n",
        "\n",
        "11A = (11B, XXX)\n",
        "11B = (XXX, 11Z)\n",
        "11Z = (11B, XXX)\n",
        "22A = (22B, XXX)\n",
        "22B = (22C, 22C)\n",
        "22C = (22Z, 22Z)\n",
        "22Z = (22B, 22B)\n",
        "XXX = (XXX, XXX)\"\"\"\n",
        "\n",
        "camel_ride(test, part1=False)"
      ]
    }
  ]
}