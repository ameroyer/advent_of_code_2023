{
  "nbformat": 4,
  "nbformat_minor": 0,
  "metadata": {
    "colab": {
      "provenance": [],
      "authorship_tag": "ABX9TyNCy1rlwSfuLNeDwJxy8/5j"
    },
    "kernelspec": {
      "name": "python3",
      "display_name": "Python 3"
    },
    "language_info": {
      "name": "python"
    }
  },
  "cells": [
    {
      "cell_type": "markdown",
      "source": [
        "# 🍲 [Day 11](https://adventofcode.com/2023/day/11)"
      ],
      "metadata": {
        "id": "C_KigXuV_pcb"
      }
    },
    {
      "cell_type": "code",
      "execution_count": 24,
      "metadata": {
        "id": "Y9vdNgsK71c1"
      },
      "outputs": [],
      "source": [
        "import numpy as np\n",
        "import queue\n",
        "\n",
        "\n",
        "def cosmic_expansion(inp:str, expansion_factor=2):\n",
        "  galaxies = np.array([[1 if x == \"#\" else 0 for x in line] for line in inp.splitlines()])\n",
        "  row_weights = expansion_factor - (expansion_factor - 1) * np.any(galaxies, axis=1)\n",
        "  col_weights = expansion_factor - (expansion_factor - 1) *  np.any(galaxies, axis=0)\n",
        "\n",
        "  x, y = np.where(galaxies)\n",
        "  acc = 0\n",
        "  def get_dists(coords, weights):\n",
        "    nonlocal acc\n",
        "    for i, x1 in enumerate(coords):\n",
        "      for x2 in coords[i:]:\n",
        "        acc += sum(weights[min(x1, x2):max(x1, x2)])\n",
        "\n",
        "  get_dists(x, row_weights)\n",
        "  get_dists(y, col_weights)\n",
        "\n",
        "  print(f\"The checksum for an expansion factor of {expansion_factor} is {acc}\")"
      ]
    },
    {
      "cell_type": "code",
      "source": [
        "cosmic_expansion(full_inp, 2)\n",
        "cosmic_expansion(full_inp, 1000000)"
      ],
      "metadata": {
        "colab": {
          "base_uri": "https://localhost:8080/"
        },
        "id": "IqPLJNYs8YfN",
        "outputId": "c15cd93e-081a-4e52-b711-559faa1c571b"
      },
      "execution_count": 29,
      "outputs": [
        {
          "output_type": "stream",
          "name": "stdout",
          "text": [
            "The checksum for an expansion factor of 2 is 10276166\n",
            "The checksum for an expansion factor of 1000000 is 598693078798\n"
          ]
        }
      ]
    }
  ]
}