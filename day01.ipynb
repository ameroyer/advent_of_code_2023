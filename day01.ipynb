{
  "nbformat": 4,
  "nbformat_minor": 0,
  "metadata": {
    "colab": {
      "provenance": [],
      "toc_visible": true,
      "authorship_tag": "ABX9TyPY7gcTRyWcG0MUYX+0xgjg"
    },
    "kernelspec": {
      "name": "python3",
      "display_name": "Python 3"
    },
    "language_info": {
      "name": "python"
    }
  },
  "cells": [
    {
      "cell_type": "markdown",
      "source": [
        "# 🎅 [Day 1](https://adventofcode.com/2023/day/1)"
      ],
      "metadata": {
        "id": "nZT0LhEYNKZi"
      }
    },
    {
      "cell_type": "code",
      "source": [
        "import re\n",
        "\n",
        "__numbers__ = {\"one\": 1, \"two\": 2, \"three\": 3,\n",
        "               \"four\": 4, \"five\": 5, \"six\": 6,\n",
        "               \"seven\": 7, \"eight\": 8, \"nine\": 9}\n",
        "\n",
        "def to_int(s):\n",
        "  out = __numbers__.get(s, None)\n",
        "  if out is None:\n",
        "    return int(s)\n",
        "  return out\n",
        "\n",
        "def get_calibration(lines, num_match=\"[0-9]\"):\n",
        "  total = 0\n",
        "  for line in lines.splitlines():\n",
        "    try:\n",
        "      out = re.findall(num_match, line)\n",
        "      total += to_int(out[0]) * 10 + to_int(to_int(out[-1]))\n",
        "    except AttributeError:\n",
        "      continue\n",
        "  print(f\"The sum of all calibration values is {total}\")"
      ],
      "metadata": {
        "id": "jObDrLXfNf7I"
      },
      "execution_count": null,
      "outputs": []
    },
    {
      "cell_type": "code",
      "source": [
        "test = \"\"\"1abc2\n",
        "pqr3stu8vwx\n",
        "a1b2c3d4e5f\n",
        "treb7uchet\n",
        "\"\"\"\n",
        "get_calibration(test, num_match=\"[1-9]\")"
      ],
      "metadata": {
        "colab": {
          "base_uri": "https://localhost:8080/"
        },
        "id": "TTyJlfavN-pT",
        "outputId": "8a514834-9009-448d-89e8-83c0cd92efe4"
      },
      "execution_count": null,
      "outputs": [
        {
          "output_type": "stream",
          "name": "stdout",
          "text": [
            "The sum of all calibration values is 142\n"
          ]
        }
      ]
    },
    {
      "cell_type": "code",
      "source": [
        "test = \"\"\"two1nine\n",
        "eightwothree\n",
        "abcone2threexyz\n",
        "xtwone3four\n",
        "4nineeightseven2\n",
        "zoneight234\n",
        "7pqrstsixteen\n",
        "\"\"\"\n",
        "get_calibration(test, num_match=\"(?=(one|two|three|four|five|six|seven|eight|nine|[1-9]))\")"
      ],
      "metadata": {
        "colab": {
          "base_uri": "https://localhost:8080/"
        },
        "id": "I6VrqbqxWFCr",
        "outputId": "d55906a2-ea21-4fce-c4cd-1bd8f3ec5c88"
      },
      "execution_count": null,
      "outputs": [
        {
          "output_type": "stream",
          "name": "stdout",
          "text": [
            "The sum of all calibration values is 281\n"
          ]
        }
      ]
    }
  ]
}