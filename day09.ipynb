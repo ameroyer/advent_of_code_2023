{
  "nbformat": 4,
  "nbformat_minor": 0,
  "metadata": {
    "colab": {
      "provenance": [],
      "authorship_tag": "ABX9TyNqmJRlUCzthiyXkRdOqs77"
    },
    "kernelspec": {
      "name": "python3",
      "display_name": "Python 3"
    },
    "language_info": {
      "name": "python"
    }
  },
  "cells": [
    {
      "cell_type": "markdown",
      "source": [
        "# 💗 [Day 9](https://adventofcode.com/2023/day/9)"
      ],
      "metadata": {
        "id": "gwWQbhp7-HZq"
      }
    },
    {
      "cell_type": "code",
      "execution_count": 1,
      "metadata": {
        "colab": {
          "base_uri": "https://localhost:8080/"
        },
        "id": "38Fuf0C575hZ",
        "outputId": "c1a567cb-7238-4cae-a971-82a45bae87e1"
      },
      "outputs": [
        {
          "output_type": "stream",
          "name": "stdout",
          "text": [
            "The answer for part 1 is 114\n",
            "The answer for part 2 is 2\n"
          ]
        }
      ],
      "source": [
        "import numpy as np\n",
        "\n",
        "def extrapolate(inp: str):\n",
        "  total_future = 0\n",
        "  total_past = 0\n",
        "  for line in inp.splitlines():\n",
        "    values = np.array([int(x) for x in line.split()])\n",
        "    next_value = values[-1]\n",
        "    past_value = values[0]\n",
        "    past_sign = 1\n",
        "    while np.any(values != 0):\n",
        "      values = values[1:] - values[:-1]\n",
        "      next_value += values[-1]\n",
        "      past_value += (past_sign:= - past_sign) * values[0]\n",
        "    total_future += next_value\n",
        "    total_past += past_value\n",
        "    #print(past_value)\n",
        "  print(f\"The answer for part 1 is {total_future}\")\n",
        "  print(f\"The answer for part 2 is {total_past}\")\n",
        "\n",
        "\n",
        "test = \"\"\"0 3 6 9 12 15\n",
        "1 3 6 10 15 21\n",
        "10 13 16 21 30 45\n",
        "\"\"\"\n",
        "\n",
        "extrapolate(test)"
      ]
    }
  ]
}