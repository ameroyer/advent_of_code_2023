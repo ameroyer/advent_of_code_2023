{
  "nbformat": 4,
  "nbformat_minor": 0,
  "metadata": {
    "colab": {
      "provenance": [],
      "authorship_tag": "ABX9TyOZMQY2Z9R2LTBjPZ6k1Jmx"
    },
    "kernelspec": {
      "name": "python3",
      "display_name": "Python 3"
    },
    "language_info": {
      "name": "python"
    }
  },
  "cells": [
    {
      "cell_type": "markdown",
      "source": [
        "# 🎁 [Day 2](https://adventofcode.com/2022/day/2)"
      ],
      "metadata": {
        "id": "jngJd9zrCSwb"
      }
    },
    {
      "cell_type": "code",
      "source": [
        "import re\n",
        "\n",
        "def parse_game(line:str):\n",
        "  regexp = r\"(?P<num>[0-9]+) (?P<color>\\D+)(,|;)\"\n",
        "  quantities = {m[1]: int(m[0]) for m in re.findall(regexp, line)}\n",
        "  return game_id, quantities\n",
        "\n",
        "def play_game(inp: str, quantities: dict = None):\n",
        "  checksum = 0\n",
        "  acc = {k: 0 for k in [\"red\", \"green\", \"blue\"]}\n",
        "  # for each ganme\n",
        "  for line in inp.splitlines():\n",
        "    game_id = int(line.split(':', 1)[0][5:])\n",
        "    if quantities is None:\n",
        "      max_q = {k: 0 for k in acc}\n",
        "\n",
        "    # for each round in the game\n",
        "    for round in re.findall(r\"[:;] \\d+ [a-z0-9, ]*\", line):\n",
        "      # count number of each color\n",
        "      for k in acc:\n",
        "        acc[k] = 0\n",
        "      for m in re.findall(r\"\\d+ [a-z]*\", round[2:]):\n",
        "        num, color = m.split(' ')\n",
        "        acc[color] += int(num)\n",
        "\n",
        "      #  determine if round is possible with the given quantities\n",
        "      if quantities is not None:\n",
        "        is_possible = all(acc[k] <= quantities[k] for k in acc)\n",
        "        if not is_possible:\n",
        "          break\n",
        "      else:\n",
        "        max_q = {k: max(v, acc[k]) for k, v in max_q.items()}\n",
        "    # were all rounds possible ?\n",
        "    if quantities is not None and is_possible:\n",
        "      checksum += game_id\n",
        "    elif quantities is None:\n",
        "      power = max_q[\"red\"] * max_q[\"green\"] * max_q[\"blue\"]\n",
        "      checksum += power\n",
        "  # Result\n",
        "  if quantities is not None:\n",
        "    print(f\"The total checksum ID of possible games is {checksum}\")\n",
        "  else:\n",
        "    print(f\"The total checksum of the games power is {checksum}\")\n",
        "\n",
        "\n",
        "test = \"\"\"Game 1: 3 blue, 4 red; 1 red, 2 green, 6 blue; 2 green\n",
        "Game 2: 1 blue, 2 green; 3 green, 4 blue, 1 red; 1 green, 1 blue\n",
        "Game 3: 8 green, 6 blue, 20 red; 5 blue, 4 red, 13 green; 5 green, 1 red\n",
        "Game 4: 1 green, 3 red, 6 blue; 3 green, 6 red; 3 green, 15 blue, 14 red\n",
        "Game 5: 6 red, 1 blue, 3 green; 2 blue, 1 red, 2 green\n",
        "\"\"\"\n",
        "\n",
        "play_game(test, {\"red\": 12, \"green\": 13, \"blue\": 14})\n",
        "play_game(test)"
      ],
      "metadata": {
        "colab": {
          "base_uri": "https://localhost:8080/"
        },
        "id": "QnF1qqszCUux",
        "outputId": "1b2c6c2c-ddb2-44e9-a353-cf2fc3ed2070"
      },
      "execution_count": 1,
      "outputs": [
        {
          "output_type": "stream",
          "name": "stdout",
          "text": [
            "The total checksum ID of possible games is 8\n",
            "The total checksum of the games power is 2286\n"
          ]
        }
      ]
    }
  ]
}