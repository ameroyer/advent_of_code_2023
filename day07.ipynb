{
  "nbformat": 4,
  "nbformat_minor": 0,
  "metadata": {
    "colab": {
      "provenance": [],
      "authorship_tag": "ABX9TyM8go+rOeEicSiGQfgRQdjC"
    },
    "kernelspec": {
      "name": "python3",
      "display_name": "Python 3"
    },
    "language_info": {
      "name": "python"
    }
  },
  "cells": [
    {
      "cell_type": "markdown",
      "source": [
        "# ❄️ [Day 7](https://adventofcode.com/2023/day/7)"
      ],
      "metadata": {
        "id": "AjBfz9ebgFKS"
      }
    },
    {
      "cell_type": "code",
      "execution_count": 1,
      "metadata": {
        "colab": {
          "base_uri": "https://localhost:8080/"
        },
        "id": "8dqv4DWtOnRX",
        "outputId": "39da31e2-2eca-4182-ecfb-fa7b478962b5"
      },
      "outputs": [
        {
          "output_type": "stream",
          "name": "stdout",
          "text": [
            "My total winnings for part 1 are 6440\n",
            "My total winnings for part 2 are 5905\n"
          ]
        }
      ],
      "source": [
        "import re\n",
        "\n",
        "def rank_hand(hand: str, part1: bool = True):\n",
        "  count = {}\n",
        "  for char in hand:\n",
        "    count[char] = count.get(char, 0) + 1\n",
        "  jokers = 0 if part1 or 'J' not in count else count.pop('J')\n",
        "  try:\n",
        "    max_c = max(count.values())\n",
        "  except ValueError:\n",
        "    max_c = 0\n",
        "  # quinte\n",
        "  if max_c + jokers >= 5:\n",
        "    return 7\n",
        "  # carre\n",
        "  elif max_c + jokers >= 4:\n",
        "    return 6\n",
        "  # full et brelan\n",
        "  elif max_c + jokers >= 3:\n",
        "    jokers -= 3 - max_c\n",
        "    num_pairs = sum(v == 2 for v in count.values()) + int(jokers == 2)\n",
        "    if jokers == 1:\n",
        "      num_pairs += any(v == 1 for v in count.values())\n",
        "    # if we had to use a joker to form the 3, we can not count it as a pair again\n",
        "    has_a_pair = (num_pairs - int(max_c < 3)) > 0\n",
        "    return 5 if has_a_pair else 4\n",
        "  # paires\n",
        "  elif max_c + jokers >= 2:\n",
        "    jokers -= 2 - max_c\n",
        "    num_pairs = sum(v == 2 for v in count.values()) + int(jokers == 2)\n",
        "    if jokers == 1:\n",
        "      num_pairs += any(v == 1 for v in count.values())\n",
        "    has_two_pairs = (num_pairs - int(max_c < 2)) > 1\n",
        "    return 3 if has_two_pairs else 2\n",
        "  # flop\n",
        "  else:\n",
        "    return 1\n",
        "\n",
        "def rank_cards(part1: bool = True):\n",
        "  card_ranks = {str(k): k for k in range(2, 10)}\n",
        "  card_ranks['T'] = 10\n",
        "  card_ranks['J'] = 11 if part1 else 0\n",
        "  card_ranks['Q'] = 12\n",
        "  card_ranks['K'] = 13\n",
        "  card_ranks['A'] = 14\n",
        "  return card_ranks\n",
        "\n",
        "\n",
        "\n",
        "def get_bet(hands, part1=True):\n",
        "  parsed = re.findall(r\"(?P<hand>\\w+) (?P<bid>\\d+)\", hands)\n",
        "  card_ranks = rank_cards(part1)\n",
        "  parsed = sorted(parsed, key=lambda x: (rank_hand(x[0], part1),) + tuple(card_ranks[card] for card in x[0]))\n",
        "  total_bid = sum(rank * int(bid) for rank, (_, bid) in enumerate(parsed, 1))\n",
        "  print(f\"My total winnings for part {'1' if part1 else '2'} are {total_bid}\")\n",
        "\n",
        "\n",
        "test = \"\"\"32T3K 765\n",
        "T55J5 684\n",
        "KK677 28\n",
        "KTJJT 220\n",
        "QQQJA 483\"\"\"\n",
        "\n",
        "get_bet(test, part1=True)\n",
        "get_bet(test, part1=False)"
      ]
    }
  ]
}