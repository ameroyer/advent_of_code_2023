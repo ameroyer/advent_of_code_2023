{
  "nbformat": 4,
  "nbformat_minor": 0,
  "metadata": {
    "colab": {
      "provenance": [],
      "authorship_tag": "ABX9TyMyptlS+hbDQgsaCginNNP7"
    },
    "kernelspec": {
      "name": "python3",
      "display_name": "Python 3"
    },
    "language_info": {
      "name": "python"
    }
  },
  "cells": [
    {
      "cell_type": "markdown",
      "source": [
        "# ☃️ [Day 6](https://adventofcode.com/2023/day/6)"
      ],
      "metadata": {
        "id": "lED6jM0DJJ0Q"
      }
    },
    {
      "cell_type": "code",
      "execution_count": 1,
      "metadata": {
        "id": "iZcRR5vSEWdI"
      },
      "outputs": [],
      "source": [
        "def toy_boats(inp: str, parse_with_spaces=True):\n",
        "  race_times, records = inp.split(\"\\n\")[:2]\n",
        "  race_times = [int(x) for x in race_times[len(\"Time:\"):].strip().split()]\n",
        "  records = [int(x) for x in records[len(\"Distance:\"):].strip().split()]\n",
        "  if not parse_with_spaces:\n",
        "    race_times = [int(''.join(str(t) for t in race_times))]\n",
        "    records = [int(''.join(str(d) for d in records))]\n",
        "\n",
        "  # Iterate\n",
        "  total = 1\n",
        "  winning_times = {(d, t): [None, None] for d, t in zip(records, race_times)}\n",
        "  for speed in range(1, max(race_times)):\n",
        "    to_remove = []\n",
        "\n",
        "    # iterate over all races\n",
        "    for d, t in winning_times:\n",
        "      won = (t - speed) * speed > d\n",
        "      # if we won, this start the winning interval\n",
        "      if winning_times[(d, t)][0] is None and won:\n",
        "          winning_times[(d, t)][0] = speed\n",
        "      # if we lost, we should record the end of the interval\n",
        "      elif winning_times[(d, t)][0] is not None and not won:\n",
        "        winning_times[(d, t)][1] = speed\n",
        "        to_remove.append((d, t))\n",
        "\n",
        "    # remove races for which we found an interval already\n",
        "    for key in to_remove:\n",
        "      total *= winning_times[key][1] - winning_times[key][0]\n",
        "      del winning_times[key]\n",
        "\n",
        "  # Add all remaining races\n",
        "  for (d, t) in winning_times:\n",
        "    if winning_times[(d, t)][0] is not None:  # I hope this case is not possible\n",
        "      total = 0\n",
        "      break\n",
        "    else:\n",
        "      total *= t - - winning_times[key][0]\n",
        "\n",
        "  print(f\"The checksum for part {'1' if parse_with_spaces else '2'} is {total}\")"
      ]
    },
    {
      "cell_type": "code",
      "source": [
        "%%time\n",
        "my_inp = \"\"\"Time:        56     71     79     99\n",
        "Distance:   334   1135   1350   2430\"\"\"\n",
        "toy_boats(my_inp, parse_with_spaces=True)"
      ],
      "metadata": {
        "colab": {
          "base_uri": "https://localhost:8080/"
        },
        "id": "EDw80s2lFZqx",
        "outputId": "10df1dde-f21c-4b8c-89f7-c0cb26f080bf"
      },
      "execution_count": 2,
      "outputs": [
        {
          "output_type": "stream",
          "name": "stdout",
          "text": [
            "The checksum for part 1 is 211904\n",
            "CPU times: user 1.22 ms, sys: 0 ns, total: 1.22 ms\n",
            "Wall time: 1.98 ms\n"
          ]
        }
      ]
    },
    {
      "cell_type": "code",
      "source": [
        "%%time\n",
        "# Note for part 2: Maybe a binary search looking for the winning interval would\n",
        "# be even faster\n",
        "toy_boats(my_inp, parse_with_spaces=False)"
      ],
      "metadata": {
        "colab": {
          "base_uri": "https://localhost:8080/"
        },
        "id": "WnhpD669IQ_J",
        "outputId": "b2d82b3f-d789-4155-9c6c-3d89e25f78a2"
      },
      "execution_count": 3,
      "outputs": [
        {
          "output_type": "stream",
          "name": "stdout",
          "text": [
            "The checksum for part 2 is 43364472\n",
            "CPU times: user 32.6 s, sys: 62.4 ms, total: 32.6 s\n",
            "Wall time: 33.5 s\n"
          ]
        }
      ]
    }
  ]
}