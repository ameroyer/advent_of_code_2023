{
  "nbformat": 4,
  "nbformat_minor": 0,
  "metadata": {
    "colab": {
      "provenance": [],
      "authorship_tag": "ABX9TyN8RO2j6PHWVeZDNKosP9bp"
    },
    "kernelspec": {
      "name": "python3",
      "display_name": "Python 3"
    },
    "language_info": {
      "name": "python"
    }
  },
  "cells": [
    {
      "cell_type": "markdown",
      "source": [
        "# ☃️ [Day 6](https://adventofcode.com/2023/day/6)"
      ],
      "metadata": {
        "id": "lED6jM0DJJ0Q"
      }
    },
    {
      "cell_type": "code",
      "execution_count": 1,
      "metadata": {
        "id": "iZcRR5vSEWdI"
      },
      "outputs": [],
      "source": [
        "def toy_boats(inp: str, parse_with_spaces=True):\n",
        "  race_times, records = inp.split(\"\\n\")[:2]\n",
        "  race_times = [int(x) for x in race_times[len(\"Time:\"):].strip().split()]\n",
        "  records = [int(x) for x in records[len(\"Distance:\"):].strip().split()]\n",
        "  if not parse_with_spaces:\n",
        "    race_times = [int(''.join(str(t) for t in race_times))]\n",
        "    records = [int(''.join(str(d) for d in records))]\n",
        "\n",
        "  # Iterate\n",
        "  total = 1\n",
        "  winning_times = {(d, t): [None, None] for d, t in zip(records, race_times)}\n",
        "  for speed in range(1, max(race_times)):\n",
        "    to_remove = []\n",
        "\n",
        "    # iterate over all races\n",
        "    for d, t in winning_times:\n",
        "      won = (t - speed) * speed > d\n",
        "      # if we won, this starts the winning interval\n",
        "      if winning_times[(d, t)][0] is None and won:\n",
        "          winning_times[(d, t)][0] = speed\n",
        "      # if we lost, we should record the end of the interval\n",
        "      elif winning_times[(d, t)][0] is not None and not won:\n",
        "        winning_times[(d, t)][1] = speed\n",
        "        to_remove.append((d, t))\n",
        "\n",
        "    # remove races for which we found an interval already\n",
        "    for key in to_remove:\n",
        "      total *= winning_times[key][1] - winning_times[key][0]\n",
        "      del winning_times[key]\n",
        "\n",
        "  # Add all remaining races\n",
        "  for (d, t) in winning_times:\n",
        "    if winning_times[(d, t)][0] is not None:  # I hope this case is not possible\n",
        "      total = 0\n",
        "      break\n",
        "    else:\n",
        "      total *= t - - winning_times[key][0]\n",
        "\n",
        "  print(f\"The checksum for part {'1' if parse_with_spaces else '2'} is {total}\")"
      ]
    },
    {
      "cell_type": "code",
      "source": [
        "%%time\n",
        "my_inp = \"\"\"Time:        56     71     79     99\n",
        "Distance:   334   1135   1350   2430\"\"\"\n",
        "toy_boats(my_inp, parse_with_spaces=True)"
      ],
      "metadata": {
        "colab": {
          "base_uri": "https://localhost:8080/"
        },
        "id": "EDw80s2lFZqx",
        "outputId": "10616d58-60dd-44b5-ccb5-6e7738acca08"
      },
      "execution_count": 2,
      "outputs": [
        {
          "output_type": "stream",
          "name": "stdout",
          "text": [
            "The checksum for part 1 is 211904\n",
            "CPU times: user 0 ns, sys: 281 µs, total: 281 µs\n",
            "Wall time: 287 µs\n"
          ]
        }
      ]
    },
    {
      "cell_type": "code",
      "source": [
        "%%time\n",
        "toy_boats(my_inp, parse_with_spaces=False)"
      ],
      "metadata": {
        "colab": {
          "base_uri": "https://localhost:8080/"
        },
        "id": "WnhpD669IQ_J",
        "outputId": "9a15eddf-5703-4f25-dea6-71e5d94942ce"
      },
      "execution_count": 3,
      "outputs": [
        {
          "output_type": "stream",
          "name": "stdout",
          "text": [
            "The checksum for part 2 is 43364472\n",
            "CPU times: user 31 s, sys: 57.7 ms, total: 31.1 s\n",
            "Wall time: 33.4 s\n"
          ]
        }
      ]
    },
    {
      "cell_type": "markdown",
      "source": [
        "### The faster part 2\n",
        "For a given time $t$ and distance record $d$, we are looking for the minimum and maximum speed $s$ such that\n",
        "\n",
        "$$\n",
        "(t - s) * s > d\n",
        "$$\n",
        "\n",
        "or equivalently\n",
        "\n",
        "$$\n",
        "s^2 - st + d > 0\n",
        "$$\n",
        "\n",
        "Therefore the roots are $\\frac{t ± \\sqrt{t^2 - 4d}}{2}$"
      ],
      "metadata": {
        "id": "oQBa6goSz0jx"
      }
    },
    {
      "cell_type": "code",
      "source": [
        "from math import sqrt, ceil, floor\n",
        "t = 56717999\n",
        "d = 334113513502430\n",
        "\n",
        "aux = sqrt(t**2 - 4 * d)\n",
        "s1 =  ceil((t - aux) / 2)\n",
        "s2 =  ceil((t + aux) / 2)\n",
        "print(f\"The checksum for part 2 is {s2 - s1}\")"
      ],
      "metadata": {
        "colab": {
          "base_uri": "https://localhost:8080/"
        },
        "id": "fSgfLzlnzr13",
        "outputId": "7aee8b67-7820-4a4f-e4e1-b5a166b37293"
      },
      "execution_count": 4,
      "outputs": [
        {
          "output_type": "stream",
          "name": "stdout",
          "text": [
            "The checksum for part 2 is 43364472\n"
          ]
        }
      ]
    }
  ]
}