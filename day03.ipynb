{
  "nbformat": 4,
  "nbformat_minor": 0,
  "metadata": {
    "colab": {
      "provenance": [],
      "authorship_tag": "ABX9TyOliRF6U4VzSjL7HLGkbLAp"
    },
    "kernelspec": {
      "name": "python3",
      "display_name": "Python 3"
    },
    "language_info": {
      "name": "python"
    }
  },
  "cells": [
    {
      "cell_type": "markdown",
      "source": [
        "# 🎄 [Day 3](https://adventofcode.com/2023)"
      ],
      "metadata": {
        "id": "60ymVJyMUbIB"
      }
    },
    {
      "cell_type": "code",
      "execution_count": 1,
      "metadata": {
        "colab": {
          "base_uri": "https://localhost:8080/"
        },
        "id": "fa-_TcwcJ_ni",
        "outputId": "bb27b492-15e5-43bc-8b45-5c07fd33b6d5"
      },
      "outputs": [
        {
          "output_type": "stream",
          "name": "stdout",
          "text": [
            "The checksum for part 1 is 4361\n",
            "The checksum for part 2 is 467835\n"
          ]
        }
      ],
      "source": [
        "import re\n",
        "\n",
        "def find_adjacent_numbers(inp):\n",
        "  checksum = 0\n",
        "  num_chars = len(inp.split(\"\\n\", 1)[0])\n",
        "  inp = inp.replace(\"\\n\", \"\")\n",
        "\n",
        "  def get_char(i, j):\n",
        "    return inp[i * num_chars + j]\n",
        "\n",
        "  # find all non period characters\n",
        "  symbols = {}\n",
        "  for s in re.finditer(\"[^.\\d\\n]\", inp):\n",
        "    idx = s.start(0)\n",
        "    symbols[idx // num_chars, idx % num_chars] = {} # inp[idx]\n",
        "\n",
        "  # Update everything when a good number is detected\n",
        "  def __match__(x, y, n, ni, njs, nje, detected):\n",
        "    nonlocal symbols, checksum\n",
        "    if (x, y) in symbols:\n",
        "      if not detected:\n",
        "        checksum += n\n",
        "      symbols[x, y][(n, ni, njs, nje)] = True\n",
        "      return True\n",
        "    return False\n",
        "\n",
        "  # find all good numbers\n",
        "  for s in re.finditer(\"\\d+\", inp):\n",
        "    detected = False\n",
        "    num = int(inp[s.start(0):s.end(0)])\n",
        "    i, jstart = divmod(s.start(0), num_chars)\n",
        "    jend = jstart + s.end(0) - s.start(0) - 1\n",
        "\n",
        "    # check extremities\n",
        "    detected = __match__(i, jstart - 1, num, i, jstart, jend, detected)\n",
        "    detected = __match__(i, jend + 1, num, i, jstart, jend, detected)\n",
        "    detected = __match__(i - 1, jend + 1, num, i, jstart, jend, detected)\n",
        "    detected = __match__(i + 1, jend + 1, num, i, jstart, jend, detected)\n",
        "    detected = __match__(i - 1, jstart - 1, num, i, jstart, jend, detected)\n",
        "    detected = __match__(i + 1, jstart - 1, num, i, jstart, jend, detected)\n",
        "    # check top and botton for every number\n",
        "    for j in range(jstart, jend + 1):\n",
        "      detected = __match__(i - 1, j, num, i, jstart, jend, detected)\n",
        "      detected = __match__(i + 1, j, num, i, jstart, jend, detected)\n",
        "\n",
        "  # Done for part 1\n",
        "  print(f\"The checksum for part 1 is {checksum}\")\n",
        "\n",
        "  # Now let's look for gears for part 2\n",
        "  checksum = 0\n",
        "  for gear, nums in symbols.items():\n",
        "    if len(nums) == 2:\n",
        "      c = 1\n",
        "      for k in nums: c *= k[0]\n",
        "      checksum += c\n",
        "  print(f\"The checksum for part 2 is {checksum}\")\n",
        "\n",
        "\n",
        "test = \"\"\"467..114..\n",
        "...*......\n",
        "..35..633.\n",
        "......#...\n",
        "617*......\n",
        ".....+.58.\n",
        "..592.....\n",
        "......755.\n",
        "...$.*....\n",
        ".664.598..\"\"\"\n",
        "find_adjacent_numbers(test)"
      ]
    }
  ]
}