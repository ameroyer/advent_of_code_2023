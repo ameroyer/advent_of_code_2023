{
  "nbformat": 4,
  "nbformat_minor": 0,
  "metadata": {
    "colab": {
      "provenance": [],
      "authorship_tag": "ABX9TyO7qIbt9sIKGIW9YXu498J+"
    },
    "kernelspec": {
      "name": "python3",
      "display_name": "Python 3"
    },
    "language_info": {
      "name": "python"
    }
  },
  "cells": [
    {
      "cell_type": "markdown",
      "source": [
        "# 🌠 [Day 4](https://adventofcode.com/2023/day/4)"
      ],
      "metadata": {
        "id": "vZhvngq_jxwJ"
      }
    },
    {
      "cell_type": "code",
      "execution_count": 1,
      "metadata": {
        "colab": {
          "base_uri": "https://localhost:8080/"
        },
        "id": "lVGjI5LQeBSP",
        "outputId": "90065ce3-aa47-401d-fbd6-000133549b27"
      },
      "outputs": [
        {
          "output_type": "stream",
          "name": "stdout",
          "text": [
            "The scratchcard pile value is 13\n",
            "The number of scratchcards we actually won is 30\n"
          ]
        }
      ],
      "source": [
        "import re\n",
        "def score_scratchcard(inp):\n",
        "  checksum = 0\n",
        "  # Check how many winning numbers are on each card\n",
        "  num_winning_numbers = []\n",
        "  for idx, line in enumerate(inp.splitlines()):\n",
        "    winning, owned = line.split(': ', 1)[1].split(' | ', 1)\n",
        "    winning = {int(w): True for w in re.findall('\\d+', winning)}\n",
        "    num_winning_numbers.append(0)\n",
        "    for num in re.findall('\\d+', owned):\n",
        "      if int(num) in winning:\n",
        "        num_winning_numbers[idx] += 1\n",
        "    if num_winning_numbers[idx] > 0:\n",
        "      checksum += 2**(num_winning_numbers[idx] - 1)\n",
        "  # count the pile of scratchards\n",
        "  won_card = 0\n",
        "  num_cards = [1] * len(num_winning_numbers)\n",
        "  for idx, num in enumerate(num_winning_numbers):\n",
        "    # we add the new cards won to the pile of scratchcards\n",
        "    for j in range(idx + 1, min(idx + 1 + num, len(num_cards))):\n",
        "      num_cards[j] += num_cards[idx]\n",
        "  print(f\"The scratchcard pile value is {checksum}\")\n",
        "  print(f\"The number of scratchcards we actually won is {sum(num_cards)}\")\n",
        "\n",
        "\n",
        "test = \"\"\"Card 1: 41 48 83 86 17 | 83 86  6 31 17  9 48 53\n",
        "Card 2: 13 32 20 16 61 | 61 30 68 82 17 32 24 19\n",
        "Card 3:  1 21 53 59 44 | 69 82 63 72 16 21 14  1\n",
        "Card 4: 41 92 73 84 69 | 59 84 76 51 58  5 54 83\n",
        "Card 5: 87 83 26 28 32 | 88 30 70 12 93 22 82 36\n",
        "Card 6: 31 18 13 56 72 | 74 77 10 23 35 67 36 11\n",
        "\"\"\"\n",
        "score_scratchcard(test)"
      ]
    }
  ]
}